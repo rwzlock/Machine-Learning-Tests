{
 "cells": [
  {
   "cell_type": "code",
   "execution_count": null,
   "metadata": {},
   "outputs": [],
   "source": [
    "#Complete tests following an online article from Machine Learning Mastery Blog\n",
    "# https://machinelearningmastery.com/arima-for-time-series-forecasting-with-python/\n",
    "#The code provided there did not work initially so I had to make some edits"
   ]
  },
  {
   "cell_type": "code",
   "execution_count": 1,
   "metadata": {},
   "outputs": [
    {
     "name": "stderr",
     "output_type": "stream",
     "text": [
      "C:\\Users\\rwzlo\\AppData\\Local\\conda\\conda\\envs\\PythonData\\lib\\site-packages\\statsmodels\\compat\\pandas.py:56: FutureWarning: The pandas.core.datetools module is deprecated and will be removed in a future version. Please use the pandas.tseries module instead.\n",
      "  from pandas.core import datetools\n"
     ]
    }
   ],
   "source": [
    "#Dependencies\n",
    "import pandas as pd\n",
    "from pandas import datetime\n",
    "from pandas import DataFrame\n",
    "from statsmodels.tsa.arima_model import ARIMA\n",
    "from matplotlib import pyplot\n",
    "from pandas.tools.plotting import autocorrelation_plot\n",
    "from sklearn.metrics import mean_squared_error"
   ]
  },
  {
   "cell_type": "code",
   "execution_count": 2,
   "metadata": {},
   "outputs": [
    {
     "data": {
      "text/html": [
       "<div>\n",
       "<style scoped>\n",
       "    .dataframe tbody tr th:only-of-type {\n",
       "        vertical-align: middle;\n",
       "    }\n",
       "\n",
       "    .dataframe tbody tr th {\n",
       "        vertical-align: top;\n",
       "    }\n",
       "\n",
       "    .dataframe thead th {\n",
       "        text-align: right;\n",
       "    }\n",
       "</style>\n",
       "<table border=\"1\" class=\"dataframe\">\n",
       "  <thead>\n",
       "    <tr style=\"text-align: right;\">\n",
       "      <th></th>\n",
       "      <th>Month</th>\n",
       "      <th>Sales of shampoo over a three year period</th>\n",
       "    </tr>\n",
       "  </thead>\n",
       "  <tbody>\n",
       "    <tr>\n",
       "      <th>0</th>\n",
       "      <td>1-Jan</td>\n",
       "      <td>266.0</td>\n",
       "    </tr>\n",
       "    <tr>\n",
       "      <th>1</th>\n",
       "      <td>2-Jan</td>\n",
       "      <td>145.9</td>\n",
       "    </tr>\n",
       "    <tr>\n",
       "      <th>2</th>\n",
       "      <td>3-Jan</td>\n",
       "      <td>183.1</td>\n",
       "    </tr>\n",
       "    <tr>\n",
       "      <th>3</th>\n",
       "      <td>4-Jan</td>\n",
       "      <td>119.3</td>\n",
       "    </tr>\n",
       "    <tr>\n",
       "      <th>4</th>\n",
       "      <td>5-Jan</td>\n",
       "      <td>180.3</td>\n",
       "    </tr>\n",
       "  </tbody>\n",
       "</table>\n",
       "</div>"
      ],
      "text/plain": [
       "   Month  Sales of shampoo over a three year period\n",
       "0  1-Jan                                      266.0\n",
       "1  2-Jan                                      145.9\n",
       "2  3-Jan                                      183.1\n",
       "3  4-Jan                                      119.3\n",
       "4  5-Jan                                      180.3"
      ]
     },
     "execution_count": 2,
     "metadata": {},
     "output_type": "execute_result"
    }
   ],
   "source": [
    "#Create the date parser and read in the dataset\n",
    "def parser(x):\n",
    "\treturn datetime.strptime('19'+x, '%Y-%m')\n",
    "\n",
    "shampoo_df = pd.read_csv('Resources/shampoo-sales.csv', header=0)\n",
    "shampoo_df.head()"
   ]
  },
  {
   "cell_type": "code",
   "execution_count": 3,
   "metadata": {},
   "outputs": [
    {
     "name": "stdout",
     "output_type": "stream",
     "text": [
      "1\n",
      "Jan\n",
      "36\n",
      "36\n"
     ]
    }
   ],
   "source": [
    "#Split the Month column into years and months\n",
    "list_of_years = [];\n",
    "list_of_months = [];\n",
    "dates = shampoo_df['Month'];\n",
    "for date in dates:\n",
    "    split_date = date.split(\"-\");\n",
    "    list_of_years.append(split_date[0]);\n",
    "    list_of_months.append(split_date[1]);\n",
    "print(list_of_years[0])\n",
    "print(list_of_months[1])\n",
    "print(len(list_of_years))\n",
    "print(len(list_of_months))"
   ]
  },
  {
   "cell_type": "code",
   "execution_count": 4,
   "metadata": {},
   "outputs": [
    {
     "name": "stdout",
     "output_type": "stream",
     "text": [
      "['01', '02', '03', '04', '05', '06', '07', '08', '09', '10', '11', '12', '01', '02', '03', '04', '05', '06', '07', '08', '09', '10', '11', '12', '01', '02', '03', '04', '05', '06', '07', '08', '09', '10', '11', '12']\n",
      "36\n"
     ]
    }
   ],
   "source": [
    "#Set all years to be the same length so that they work with the date parser created above\n",
    "years = list_of_years;\n",
    "years_list = [];\n",
    "for year in years:\n",
    "    year = year.zfill(2)\n",
    "    years_list.append(year)\n",
    "print(years_list)\n",
    "print(len(years_list))"
   ]
  },
  {
   "cell_type": "code",
   "execution_count": 5,
   "metadata": {},
   "outputs": [
    {
     "name": "stdout",
     "output_type": "stream",
     "text": [
      "[1, 1, 1, 1, 1, 1, 1, 1, 1, 1, 1, 1, 2, 2, 2, 2, 2, 2, 2, 2, 2, 2, 2, 2, 3, 3, 3, 3, 3, 3, 3, 3, 3, 3, 3, 3]\n",
      "36\n"
     ]
    }
   ],
   "source": [
    "#Convert all months data into corresponding month numbers\n",
    "month_dict = { 'Jan': 1, 'Feb': 2, 'Mar': 3 };\n",
    "months = list_of_months;\n",
    "months_list = [];\n",
    "for month in months:\n",
    "    if month in month_dict:\n",
    "        val = month_dict[month]\n",
    "        months_list.append(val)\n",
    "print(months_list)\n",
    "print(len(months_list))"
   ]
  },
  {
   "cell_type": "code",
   "execution_count": 6,
   "metadata": {},
   "outputs": [
    {
     "name": "stdout",
     "output_type": "stream",
     "text": [
      "01-1\n"
     ]
    }
   ],
   "source": [
    "#Combine months and years to get the date\n",
    "dates_list = []\n",
    "for i in range (0, len(years_list)):\n",
    "    date_string = str(years_list[i])+'-'+str(months_list[i]);\n",
    "    dates_list.append(date_string);\n",
    "print(dates_list[0])"
   ]
  },
  {
   "cell_type": "code",
   "execution_count": 7,
   "metadata": {},
   "outputs": [
    {
     "name": "stdout",
     "output_type": "stream",
     "text": [
      "1901-01-01 00:00:00\n"
     ]
    }
   ],
   "source": [
    "#Convert this date using the parser\n",
    "dates = [];\n",
    "for date in dates_list:\n",
    "    parsed_val = parser(date);\n",
    "    dates.append(parsed_val)\n",
    "print(dates[0])"
   ]
  },
  {
   "cell_type": "code",
   "execution_count": 8,
   "metadata": {},
   "outputs": [
    {
     "data": {
      "text/html": [
       "<div>\n",
       "<style scoped>\n",
       "    .dataframe tbody tr th:only-of-type {\n",
       "        vertical-align: middle;\n",
       "    }\n",
       "\n",
       "    .dataframe tbody tr th {\n",
       "        vertical-align: top;\n",
       "    }\n",
       "\n",
       "    .dataframe thead th {\n",
       "        text-align: right;\n",
       "    }\n",
       "</style>\n",
       "<table border=\"1\" class=\"dataframe\">\n",
       "  <thead>\n",
       "    <tr style=\"text-align: right;\">\n",
       "      <th></th>\n",
       "      <th>Month</th>\n",
       "      <th>Sales</th>\n",
       "    </tr>\n",
       "  </thead>\n",
       "  <tbody>\n",
       "    <tr>\n",
       "      <th>0</th>\n",
       "      <td>1901-01-01</td>\n",
       "      <td>266.0</td>\n",
       "    </tr>\n",
       "    <tr>\n",
       "      <th>1</th>\n",
       "      <td>1902-01-01</td>\n",
       "      <td>145.9</td>\n",
       "    </tr>\n",
       "    <tr>\n",
       "      <th>2</th>\n",
       "      <td>1903-01-01</td>\n",
       "      <td>183.1</td>\n",
       "    </tr>\n",
       "    <tr>\n",
       "      <th>3</th>\n",
       "      <td>1904-01-01</td>\n",
       "      <td>119.3</td>\n",
       "    </tr>\n",
       "    <tr>\n",
       "      <th>4</th>\n",
       "      <td>1905-01-01</td>\n",
       "      <td>180.3</td>\n",
       "    </tr>\n",
       "  </tbody>\n",
       "</table>\n",
       "</div>"
      ],
      "text/plain": [
       "       Month  Sales\n",
       "0 1901-01-01  266.0\n",
       "1 1902-01-01  145.9\n",
       "2 1903-01-01  183.1\n",
       "3 1904-01-01  119.3\n",
       "4 1905-01-01  180.3"
      ]
     },
     "execution_count": 8,
     "metadata": {},
     "output_type": "execute_result"
    }
   ],
   "source": [
    "#Save the columns to a dictionary and put that dictionary into a final dataframe\n",
    "df_dict = {'Month': dates, 'Sales': shampoo_df['Sales of shampoo over a three year period']}\n",
    "df = pd.DataFrame(df_dict)\n",
    "df.head()"
   ]
  },
  {
   "cell_type": "code",
   "execution_count": 9,
   "metadata": {},
   "outputs": [],
   "source": [
    "#Export this dataframe. I do this so that I can leverage pre-written code for the series below\n",
    "df.to_csv('Resources/shampoo-sales1.csv', index=False)"
   ]
  },
  {
   "cell_type": "code",
   "execution_count": 11,
   "metadata": {},
   "outputs": [
    {
     "data": {
      "text/plain": [
       "Month\n",
       "1901-01-01    266.0\n",
       "1902-01-01    145.9\n",
       "1903-01-01    183.1\n",
       "1904-01-01    119.3\n",
       "1905-01-01    180.3\n",
       "Name: Sales, dtype: float64"
      ]
     },
     "execution_count": 11,
     "metadata": {},
     "output_type": "execute_result"
    }
   ],
   "source": [
    "#Pre-written series code with new csv.\n",
    "series = pd.read_csv('Resources/shampoo-sales1.csv', header=0, index_col=0, squeeze=True)\n",
    "series.head()"
   ]
  },
  {
   "cell_type": "code",
   "execution_count": 12,
   "metadata": {},
   "outputs": [
    {
     "data": {
      "text/plain": [
       "<matplotlib.axes._subplots.AxesSubplot at 0x27493dc0630>"
      ]
     },
     "execution_count": 12,
     "metadata": {},
     "output_type": "execute_result"
    },
    {
     "data": {
      "image/png": "[encoded data removed]",
      "text/plain": [
       "<Figure size 432x288 with 1 Axes>"
      ]
     },
     "metadata": {},
     "output_type": "display_data"
    }
   ],
   "source": [
    "#Plot series to look at time dependence\n",
    "series.plot()"
   ]
  },
  {
   "cell_type": "code",
   "execution_count": 13,
   "metadata": {},
   "outputs": [
    {
     "name": "stderr",
     "output_type": "stream",
     "text": [
      "C:\\Users\\rwzlo\\AppData\\Local\\conda\\conda\\envs\\PythonData\\lib\\site-packages\\ipykernel_launcher.py:1: FutureWarning: 'pandas.tools.plotting.autocorrelation_plot' is deprecated, import 'pandas.plotting.autocorrelation_plot' instead.\n",
      "  \"\"\"Entry point for launching an IPython kernel.\n"
     ]
    },
    {
     "data": {
      "text/plain": [
       "<matplotlib.axes._subplots.AxesSubplot at 0x27495e77e80>"
      ]
     },
     "execution_count": 13,
     "metadata": {},
     "output_type": "execute_result"
    },
    {
     "data": {
      "image/png": "[encoded data removed]",
      "text/plain": [
       "<Figure size 432x288 with 1 Axes>"
      ]
     },
     "metadata": {},
     "output_type": "display_data"
    }
   ],
   "source": [
    "#The article I follow suggests using an autocorrelation plot to estimate the lag order (p)\n",
    "autocorrelation_plot(series)"
   ]
  },
  {
   "cell_type": "code",
   "execution_count": 14,
   "metadata": {
    "scrolled": true
   },
   "outputs": [
    {
     "name": "stderr",
     "output_type": "stream",
     "text": [
      "C:\\Users\\rwzlo\\AppData\\Local\\conda\\conda\\envs\\PythonData\\lib\\site-packages\\statsmodels\\tsa\\kalmanf\\kalmanfilter.py:646: FutureWarning: Conversion of the second argument of issubdtype from `float` to `np.floating` is deprecated. In future, it will be treated as `np.float64 == np.dtype(float).type`.\n",
      "  if issubdtype(paramsdtype, float):\n",
      "C:\\Users\\rwzlo\\AppData\\Local\\conda\\conda\\envs\\PythonData\\lib\\site-packages\\statsmodels\\tsa\\kalmanf\\kalmanfilter.py:650: FutureWarning: Conversion of the second argument of issubdtype from `complex` to `np.complexfloating` is deprecated. In future, it will be treated as `np.complex128 == np.dtype(complex).type`.\n",
      "  elif issubdtype(paramsdtype, complex):\n",
      "C:\\Users\\rwzlo\\AppData\\Local\\conda\\conda\\envs\\PythonData\\lib\\site-packages\\statsmodels\\tsa\\kalmanf\\kalmanfilter.py:577: FutureWarning: Conversion of the second argument of issubdtype from `float` to `np.floating` is deprecated. In future, it will be treated as `np.float64 == np.dtype(float).type`.\n",
      "  if issubdtype(paramsdtype, float):\n"
     ]
    },
    {
     "name": "stdout",
     "output_type": "stream",
     "text": [
      "                             ARIMA Model Results                              \n",
      "==============================================================================\n",
      "Dep. Variable:                D.Sales   No. Observations:                   35\n",
      "Model:                 ARIMA(5, 1, 0)   Log Likelihood                -196.170\n",
      "Method:                       css-mle   S.D. of innovations             64.241\n",
      "Date:                Thu, 23 Aug 2018   AIC                            406.340\n",
      "Time:                        11:23:27   BIC                            417.227\n",
      "Sample:                    01-01-1902   HQIC                           410.098\n",
      "                         - 03-01-1912                                         \n",
      "=================================================================================\n",
      "                    coef    std err          z      P>|z|      [0.025      0.975]\n",
      "---------------------------------------------------------------------------------\n",
      "const            12.0649      3.652      3.304      0.003       4.908      19.222\n",
      "ar.L1.D.Sales    -1.1082      0.183     -6.063      0.000      -1.466      -0.750\n",
      "ar.L2.D.Sales    -0.6203      0.282     -2.203      0.036      -1.172      -0.068\n",
      "ar.L3.D.Sales    -0.3606      0.295     -1.222      0.231      -0.939       0.218\n",
      "ar.L4.D.Sales    -0.1252      0.280     -0.447      0.658      -0.674       0.424\n",
      "ar.L5.D.Sales     0.1289      0.191      0.673      0.506      -0.246       0.504\n",
      "                                    Roots                                    \n",
      "=============================================================================\n",
      "                 Real           Imaginary           Modulus         Frequency\n",
      "-----------------------------------------------------------------------------\n",
      "AR.1           -1.0617           -0.5064j            1.1763           -0.4292\n",
      "AR.2           -1.0617           +0.5064j            1.1763            0.4292\n",
      "AR.3            0.0816           -1.3804j            1.3828           -0.2406\n",
      "AR.4            0.0816           +1.3804j            1.3828            0.2406\n",
      "AR.5            2.9315           -0.0000j            2.9315           -0.0000\n",
      "-----------------------------------------------------------------------------\n"
     ]
    },
    {
     "data": {
      "image/png": "[encoded data removed]",
      "text/plain": [
       "<Figure size 432x288 with 1 Axes>"
      ]
     },
     "metadata": {},
     "output_type": "display_data"
    },
    {
     "data": {
      "image/png": "[encoded data removed]",
      "text/plain": [
       "<Figure size 432x288 with 1 Axes>"
      ]
     },
     "metadata": {},
     "output_type": "display_data"
    },
    {
     "name": "stdout",
     "output_type": "stream",
     "text": [
      "                0\n",
      "count   35.000000\n",
      "mean    -5.495215\n",
      "std     68.132882\n",
      "min   -133.296619\n",
      "25%    -42.477920\n",
      "50%     -7.186571\n",
      "75%     24.748340\n",
      "max    133.237965\n"
     ]
    }
   ],
   "source": [
    "# fit model\n",
    "model = ARIMA(series, order=(5,1,0))\n",
    "model_fit = model.fit(disp=0)\n",
    "print(model_fit.summary())\n",
    "# plot residual errors\n",
    "residuals = DataFrame(model_fit.resid)\n",
    "residuals.plot()\n",
    "pyplot.show()\n",
    "residuals.plot(kind='kde')\n",
    "pyplot.show()\n",
    "print(residuals.describe())\n",
    "#The most useful plot for me was the Gaussian distribution of the residual errors.\n",
    "#The distribution showed that the mean error was not 0, indicating that the model tended to predict results lower than the actual"
   ]
  },
  {
   "cell_type": "code",
   "execution_count": 15,
   "metadata": {},
   "outputs": [
    {
     "name": "stderr",
     "output_type": "stream",
     "text": [
      "C:\\Users\\rwzlo\\AppData\\Local\\conda\\conda\\envs\\PythonData\\lib\\site-packages\\statsmodels\\tsa\\kalmanf\\kalmanfilter.py:646: FutureWarning: Conversion of the second argument of issubdtype from `float` to `np.floating` is deprecated. In future, it will be treated as `np.float64 == np.dtype(float).type`.\n",
      "  if issubdtype(paramsdtype, float):\n",
      "C:\\Users\\rwzlo\\AppData\\Local\\conda\\conda\\envs\\PythonData\\lib\\site-packages\\statsmodels\\tsa\\kalmanf\\kalmanfilter.py:650: FutureWarning: Conversion of the second argument of issubdtype from `complex` to `np.complexfloating` is deprecated. In future, it will be treated as `np.complex128 == np.dtype(complex).type`.\n",
      "  elif issubdtype(paramsdtype, complex):\n",
      "C:\\Users\\rwzlo\\AppData\\Local\\conda\\conda\\envs\\PythonData\\lib\\site-packages\\statsmodels\\tsa\\kalmanf\\kalmanfilter.py:577: FutureWarning: Conversion of the second argument of issubdtype from `float` to `np.floating` is deprecated. In future, it will be treated as `np.float64 == np.dtype(float).type`.\n",
      "  if issubdtype(paramsdtype, float):\n"
     ]
    },
    {
     "name": "stdout",
     "output_type": "stream",
     "text": [
      "predicted=349.117590, expected=342.300000\n",
      "predicted=306.512897, expected=339.700000\n",
      "predicted=387.376377, expected=440.400000\n",
      "predicted=348.154243, expected=315.900000\n",
      "predicted=386.308882, expected=439.300000\n",
      "predicted=356.082097, expected=401.300000\n",
      "predicted=446.379430, expected=437.400000\n",
      "predicted=394.737263, expected=575.500000\n",
      "predicted=434.915489, expected=407.600000\n",
      "predicted=507.923512, expected=682.000000\n",
      "predicted=435.483013, expected=475.300000\n",
      "predicted=652.743897, expected=581.300000\n",
      "predicted=546.343515, expected=646.900000\n",
      "Test MSE: 6958.324\n"
     ]
    },
    {
     "data": {
      "image/png": "[encoded data removed]",
      "text/plain": [
       "<Figure size 432x288 with 1 Axes>"
      ]
     },
     "metadata": {},
     "output_type": "display_data"
    }
   ],
   "source": [
    "#Split into train and testing data and create an ARIMA model\n",
    "#Calculate Mean-Squared-Error (MSE) and use that as our accuracy metric\n",
    "#Plot Predicted and Actual Graphs to see how the model performed\n",
    "X = series.values\n",
    "size = int(len(X) * 0.66)\n",
    "train, test = X[0:size], X[size:len(X)]\n",
    "history = [x for x in train]\n",
    "predictions = list()\n",
    "for t in range(len(test)):\n",
    "\tmodel = ARIMA(history, order=(5,1,0))\n",
    "\tmodel_fit = model.fit(disp=0)\n",
    "\toutput = model_fit.forecast()\n",
    "\tyhat = output[0]\n",
    "\tpredictions.append(yhat)\n",
    "\tobs = test[t]\n",
    "\thistory.append(obs)\n",
    "\tprint('predicted=%f, expected=%f' % (yhat, obs))\n",
    "error = mean_squared_error(test, predictions)\n",
    "print('Test MSE: %.3f' % error)\n",
    "# plot\n",
    "pyplot.plot(test)\n",
    "pyplot.plot(predictions, color='red')\n",
    "pyplot.show()"
   ]
  },
  {
   "cell_type": "code",
   "execution_count": null,
   "metadata": {},
   "outputs": [],
   "source": []
  }
 ],
 "metadata": {
  "kernelspec": {
   "display_name": "Python 3",
   "language": "python",
   "name": "python3"
  },
  "language_info": {
   "codemirror_mode": {
    "name": "ipython",
    "version": 3
   },
   "file_extension": ".py",
   "mimetype": "text/x-python",
   "name": "python",
   "nbconvert_exporter": "python",
   "pygments_lexer": "ipython3",
   "version": "3.6.4"
  }
 },
 "nbformat": 4,
 "nbformat_minor": 2
}
